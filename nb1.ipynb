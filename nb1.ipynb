{
 "cells": [
  {
   "cell_type": "code",
   "execution_count": 1,
   "id": "aa2e1159-4209-4c0f-bde0-6132680eff7c",
   "metadata": {},
   "outputs": [],
   "source": [
    "# basics\n",
    "import numpy as np\n",
    "import pandas as pd\n",
    "import scipy.stats as stats\n",
    "\n",
    "# graphing\n",
    "import matplotlib.pyplot as plt\n",
    "import seaborn as sns\n",
    "import plotly.express as px\n",
    "\n",
    "# preprocessing\n",
    "from sklearn.preprocessing import PolynomialFeatures, StandardScaler, MinMaxScaler\n",
    "\n",
    "# model selection\n",
    "from sklearn.model_selection import train_test_split, KFold, GridSearchCV, cross_val_score\n",
    "\n",
    "from sklearn.metrics import (r2_score, mean_squared_error, accuracy_score, precision_score, recall_score, make_scorer,\n",
    "                             f1_score, roc_auc_score, roc_curve, precision_recall_curve)\n",
    "\n",
    "# models\n",
    "from sklearn.neighbors import KNeighborsClassifier, KNeighborsRegressor\n",
    "from sklearn.linear_model import LinearRegression, Lasso, Ridge, ElasticNet, LogisticRegression\n",
    "\n",
    "# enable reload of changed files\n",
    "%load_ext autoreload\n",
    "%autoreload 2\n",
    "\n",
    "# plot inline\n",
    "%matplotlib inline"
   ]
  },
  {
   "cell_type": "code",
   "execution_count": 2,
   "id": "571cce04-96cd-4d5d-9508-3584bb85ccfa",
   "metadata": {},
   "outputs": [
    {
     "name": "stderr",
     "output_type": "stream",
     "text": [
      "/home/chyld/.local/miniconda3/envs/tau/lib/python3.10/site-packages/IPython/core/interactiveshell.py:3457: DtypeWarning: Columns (13,39,40,41) have mixed types.Specify dtype option on import or set low_memory=False.\n",
      "  exec(code_obj, self.user_global_ns, self.user_ns)\n"
     ]
    }
   ],
   "source": [
    "train_df = pd.read_csv('data/Train.csv', index_col='SalesID')\n",
    "test_df = pd.read_csv('data/test.csv', index_col='SalesID')"
   ]
  },
  {
   "cell_type": "code",
   "execution_count": 3,
   "id": "14212988-1aa6-40cc-ace7-bb63f176d1e3",
   "metadata": {},
   "outputs": [],
   "source": [
    "y = train_df.SalePrice"
   ]
  },
  {
   "cell_type": "code",
   "execution_count": 4,
   "id": "766a1950-05ae-4c9b-bc01-7a0dfc8f0a02",
   "metadata": {},
   "outputs": [
    {
     "name": "stdout",
     "output_type": "stream",
     "text": [
      "<class 'pandas.core.frame.DataFrame'>\n",
      "Int64Index: 401125 entries, 1139246 to 6333342\n",
      "Data columns (total 2 columns):\n",
      " #   Column                    Non-Null Count   Dtype  \n",
      "---  ------                    --------------   -----  \n",
      " 0   YearMade                  401125 non-null  int64  \n",
      " 1   MachineHoursCurrentMeter  401125 non-null  float64\n",
      "dtypes: float64(1), int64(1)\n",
      "memory usage: 9.2 MB\n"
     ]
    }
   ],
   "source": [
    "X = train_df.loc[:,['YearMade', 'MachineHoursCurrentMeter']]\n",
    "X['MachineHoursCurrentMeter'] = X.MachineHoursCurrentMeter.fillna(X.MachineHoursCurrentMeter.mean())\n",
    "X.info()"
   ]
  },
  {
   "cell_type": "code",
   "execution_count": 5,
   "id": "0e00920f-fcdc-4996-99f1-98e00734ff63",
   "metadata": {},
   "outputs": [
    {
     "data": {
      "text/plain": [
       "SalesID\n",
       "1139246    66000\n",
       "1139248    57000\n",
       "Name: SalePrice, dtype: int64"
      ]
     },
     "execution_count": 5,
     "metadata": {},
     "output_type": "execute_result"
    }
   ],
   "source": [
    "y.head(2)"
   ]
  },
  {
   "cell_type": "code",
   "execution_count": 6,
   "id": "e7d95b6f-3f73-4393-af86-4680b5fd9713",
   "metadata": {},
   "outputs": [
    {
     "data": {
      "text/html": [
       "<div>\n",
       "<style scoped>\n",
       "    .dataframe tbody tr th:only-of-type {\n",
       "        vertical-align: middle;\n",
       "    }\n",
       "\n",
       "    .dataframe tbody tr th {\n",
       "        vertical-align: top;\n",
       "    }\n",
       "\n",
       "    .dataframe thead th {\n",
       "        text-align: right;\n",
       "    }\n",
       "</style>\n",
       "<table border=\"1\" class=\"dataframe\">\n",
       "  <thead>\n",
       "    <tr style=\"text-align: right;\">\n",
       "      <th></th>\n",
       "      <th>YearMade</th>\n",
       "      <th>MachineHoursCurrentMeter</th>\n",
       "    </tr>\n",
       "    <tr>\n",
       "      <th>SalesID</th>\n",
       "      <th></th>\n",
       "      <th></th>\n",
       "    </tr>\n",
       "  </thead>\n",
       "  <tbody>\n",
       "    <tr>\n",
       "      <th>1139246</th>\n",
       "      <td>2004</td>\n",
       "      <td>68.0</td>\n",
       "    </tr>\n",
       "    <tr>\n",
       "      <th>1139248</th>\n",
       "      <td>1996</td>\n",
       "      <td>4640.0</td>\n",
       "    </tr>\n",
       "  </tbody>\n",
       "</table>\n",
       "</div>"
      ],
      "text/plain": [
       "         YearMade  MachineHoursCurrentMeter\n",
       "SalesID                                    \n",
       "1139246      2004                      68.0\n",
       "1139248      1996                    4640.0"
      ]
     },
     "execution_count": 6,
     "metadata": {},
     "output_type": "execute_result"
    }
   ],
   "source": [
    "X.head(2)"
   ]
  },
  {
   "cell_type": "code",
   "execution_count": 7,
   "id": "f88d0ddd-32a5-41df-ad4d-f9e153ebe67e",
   "metadata": {},
   "outputs": [],
   "source": [
    "# you already have a \"hold-out\" set"
   ]
  },
  {
   "cell_type": "code",
   "execution_count": 8,
   "id": "842664fc-5067-45ae-91dd-d09f2fa57a4c",
   "metadata": {},
   "outputs": [],
   "source": [
    "def rmsle(actual, predictions):\n",
    "    log_diff = np.log(predictions+1) - np.log(actual+1)\n",
    "    return np.sqrt(np.mean(log_diff**2))"
   ]
  },
  {
   "cell_type": "code",
   "execution_count": 9,
   "id": "7bee911f-c3b8-4ce2-9cd4-fe52f851c3ab",
   "metadata": {},
   "outputs": [],
   "source": [
    "score = make_scorer(rmsle, greater_is_better=False)"
   ]
  },
  {
   "cell_type": "code",
   "execution_count": 10,
   "id": "7595a901-6003-4446-92cb-a6055cd99f1e",
   "metadata": {},
   "outputs": [
    {
     "name": "stdout",
     "output_type": "stream",
     "text": [
      "Fitting 5 folds for each of 1 candidates, totalling 5 fits\n"
     ]
    },
    {
     "data": {
      "text/plain": [
       "(-0.7236173531546051, {})"
      ]
     },
     "execution_count": 10,
     "metadata": {},
     "output_type": "execute_result"
    }
   ],
   "source": [
    "parameters = {}\n",
    "model = LinearRegression()\n",
    "gs = GridSearchCV(model, parameters, cv=5, n_jobs=-1, verbose=1, scoring=score)\n",
    "gs.fit(X, y)\n",
    "gs.best_score_, gs.best_params_"
   ]
  },
  {
   "cell_type": "code",
   "execution_count": 11,
   "id": "a5a6d8c9-2525-4a6f-a52c-acbffb0ad3f9",
   "metadata": {},
   "outputs": [],
   "source": [
    "final = LinearRegression().fit(X, y)"
   ]
  },
  {
   "cell_type": "code",
   "execution_count": 12,
   "id": "0cf26f52-7203-462a-8df5-c7729825fa54",
   "metadata": {},
   "outputs": [],
   "source": [
    "Xt = test_df.loc[:,['YearMade', 'MachineHoursCurrentMeter']]"
   ]
  },
  {
   "cell_type": "code",
   "execution_count": 13,
   "id": "7911955e-0344-4566-a815-ffdf94eb4b8b",
   "metadata": {},
   "outputs": [],
   "source": [
    "Xt['MachineHoursCurrentMeter'] = Xt.MachineHoursCurrentMeter.fillna(Xt.MachineHoursCurrentMeter.mean())"
   ]
  },
  {
   "cell_type": "code",
   "execution_count": 14,
   "id": "668a8ba5-3e3b-4ea7-ac4f-bbc345fc4904",
   "metadata": {},
   "outputs": [
    {
     "data": {
      "text/html": [
       "<div>\n",
       "<style scoped>\n",
       "    .dataframe tbody tr th:only-of-type {\n",
       "        vertical-align: middle;\n",
       "    }\n",
       "\n",
       "    .dataframe tbody tr th {\n",
       "        vertical-align: top;\n",
       "    }\n",
       "\n",
       "    .dataframe thead th {\n",
       "        text-align: right;\n",
       "    }\n",
       "</style>\n",
       "<table border=\"1\" class=\"dataframe\">\n",
       "  <thead>\n",
       "    <tr style=\"text-align: right;\">\n",
       "      <th></th>\n",
       "      <th>YearMade</th>\n",
       "      <th>MachineHoursCurrentMeter</th>\n",
       "    </tr>\n",
       "    <tr>\n",
       "      <th>SalesID</th>\n",
       "      <th></th>\n",
       "      <th></th>\n",
       "    </tr>\n",
       "  </thead>\n",
       "  <tbody>\n",
       "    <tr>\n",
       "      <th>1222837</th>\n",
       "      <td>1000</td>\n",
       "      <td>0.0</td>\n",
       "    </tr>\n",
       "    <tr>\n",
       "      <th>1222839</th>\n",
       "      <td>2006</td>\n",
       "      <td>4412.0</td>\n",
       "    </tr>\n",
       "    <tr>\n",
       "      <th>1222841</th>\n",
       "      <td>2000</td>\n",
       "      <td>10127.0</td>\n",
       "    </tr>\n",
       "    <tr>\n",
       "      <th>1222843</th>\n",
       "      <td>1000</td>\n",
       "      <td>4682.0</td>\n",
       "    </tr>\n",
       "    <tr>\n",
       "      <th>1222845</th>\n",
       "      <td>2002</td>\n",
       "      <td>8150.0</td>\n",
       "    </tr>\n",
       "  </tbody>\n",
       "</table>\n",
       "</div>"
      ],
      "text/plain": [
       "         YearMade  MachineHoursCurrentMeter\n",
       "SalesID                                    \n",
       "1222837      1000                       0.0\n",
       "1222839      2006                    4412.0\n",
       "1222841      2000                   10127.0\n",
       "1222843      1000                    4682.0\n",
       "1222845      2002                    8150.0"
      ]
     },
     "execution_count": 14,
     "metadata": {},
     "output_type": "execute_result"
    }
   ],
   "source": [
    "Xt.head()"
   ]
  },
  {
   "cell_type": "code",
   "execution_count": 15,
   "id": "24b8da5d-9c3b-4aa8-900e-46de7a6eee7a",
   "metadata": {},
   "outputs": [
    {
     "data": {
      "text/plain": [
       "array([19940.97230702, 32433.09593706, 32437.19241221, ...,\n",
       "       32435.38926702, 32447.74684216, 32447.74684216])"
      ]
     },
     "execution_count": 15,
     "metadata": {},
     "output_type": "execute_result"
    }
   ],
   "source": [
    "final.predict(Xt)"
   ]
  },
  {
   "cell_type": "code",
   "execution_count": null,
   "id": "8a4f18f6-cec0-4dca-8206-176286f13b33",
   "metadata": {},
   "outputs": [],
   "source": []
  },
  {
   "cell_type": "code",
   "execution_count": null,
   "id": "113da83f-4466-40b6-b95e-f6cc06a284f4",
   "metadata": {},
   "outputs": [],
   "source": []
  }
 ],
 "metadata": {
  "kernelspec": {
   "display_name": "Python 3 (ipykernel)",
   "language": "python",
   "name": "python3"
  },
  "language_info": {
   "codemirror_mode": {
    "name": "ipython",
    "version": 3
   },
   "file_extension": ".py",
   "mimetype": "text/x-python",
   "name": "python",
   "nbconvert_exporter": "python",
   "pygments_lexer": "ipython3",
   "version": "3.10.0"
  }
 },
 "nbformat": 4,
 "nbformat_minor": 5
}
