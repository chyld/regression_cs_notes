{
 "cells": [
  {
   "cell_type": "code",
   "execution_count": 1,
   "id": "05cb1b6e-8ab4-4932-b49b-57c7dade1f4f",
   "metadata": {},
   "outputs": [],
   "source": [
    "# basics\n",
    "import numpy as np\n",
    "import pandas as pd\n",
    "import scipy.stats as stats\n",
    "\n",
    "# graphing\n",
    "import matplotlib.pyplot as plt\n",
    "import seaborn as sns\n",
    "import plotly.express as px\n",
    "\n",
    "# preprocessing\n",
    "from sklearn.preprocessing import PolynomialFeatures, StandardScaler, MinMaxScaler\n",
    "\n",
    "# model selection\n",
    "from sklearn.model_selection import train_test_split, KFold, GridSearchCV, cross_val_score\n",
    "\n",
    "from sklearn.metrics import (r2_score, mean_squared_error, accuracy_score, precision_score, recall_score, make_scorer,\n",
    "                             f1_score, roc_auc_score, roc_curve, precision_recall_curve)\n",
    "\n",
    "# models\n",
    "from sklearn.neighbors import KNeighborsClassifier, KNeighborsRegressor\n",
    "from sklearn.linear_model import LinearRegression, Lasso, Ridge, ElasticNet, LogisticRegression\n",
    "\n",
    "# enable reload of changed files\n",
    "%load_ext autoreload\n",
    "%autoreload 2\n",
    "\n",
    "# plot inline\n",
    "%matplotlib inline\n",
    "\n",
    "from functions import Cleaner, rmsle"
   ]
  },
  {
   "cell_type": "code",
   "execution_count": 2,
   "id": "0146f01e-19d6-4b93-bf8c-c9f42085b3f8",
   "metadata": {},
   "outputs": [
    {
     "name": "stderr",
     "output_type": "stream",
     "text": [
      "/home/chyld/.local/miniconda3/envs/tau/lib/python3.10/site-packages/IPython/core/interactiveshell.py:3457: DtypeWarning: Columns (13,39,40,41) have mixed types.Specify dtype option on import or set low_memory=False.\n",
      "  exec(code_obj, self.user_global_ns, self.user_ns)\n"
     ]
    }
   ],
   "source": [
    "train_df = pd.read_csv('data/Train.csv', index_col='SalesID')\n",
    "test_df = pd.read_csv('data/test.csv', index_col='SalesID')"
   ]
  },
  {
   "cell_type": "markdown",
   "id": "1d8be6cd-47ef-4c7e-b46c-a0755c6b9461",
   "metadata": {},
   "source": [
    "# Demo Code"
   ]
  },
  {
   "cell_type": "code",
   "execution_count": 3,
   "id": "2e83bc9b-ebab-4816-9abf-e6df823cafe1",
   "metadata": {},
   "outputs": [],
   "source": [
    "clean = Cleaner(['YearMade', 'MachineHoursCurrentMeter'])"
   ]
  },
  {
   "cell_type": "code",
   "execution_count": 4,
   "id": "37b7e52c-b6d8-4f50-a841-e19f0365accb",
   "metadata": {},
   "outputs": [
    {
     "data": {
      "text/plain": [
       "{'columns': ['YearMade', 'MachineHoursCurrentMeter']}"
      ]
     },
     "execution_count": 4,
     "metadata": {},
     "output_type": "execute_result"
    }
   ],
   "source": [
    "clean.__dict__"
   ]
  },
  {
   "cell_type": "code",
   "execution_count": 5,
   "id": "cf4996c3-c24a-426f-9380-e777b5446d90",
   "metadata": {},
   "outputs": [],
   "source": [
    "clean.fit(train_df)"
   ]
  },
  {
   "cell_type": "code",
   "execution_count": 6,
   "id": "66e79ad1-72b3-4e24-9f42-df8db5b328d2",
   "metadata": {},
   "outputs": [
    {
     "data": {
      "text/plain": [
       "{'columns': ['YearMade', 'MachineHoursCurrentMeter'],\n",
       " 'mhcm_mean': 3457.955353202816}"
      ]
     },
     "execution_count": 6,
     "metadata": {},
     "output_type": "execute_result"
    }
   ],
   "source": [
    "clean.__dict__"
   ]
  },
  {
   "cell_type": "code",
   "execution_count": 7,
   "id": "767912d3-98af-4cb8-8819-736464bdcb43",
   "metadata": {},
   "outputs": [
    {
     "data": {
      "text/html": [
       "<div>\n",
       "<style scoped>\n",
       "    .dataframe tbody tr th:only-of-type {\n",
       "        vertical-align: middle;\n",
       "    }\n",
       "\n",
       "    .dataframe tbody tr th {\n",
       "        vertical-align: top;\n",
       "    }\n",
       "\n",
       "    .dataframe thead th {\n",
       "        text-align: right;\n",
       "    }\n",
       "</style>\n",
       "<table border=\"1\" class=\"dataframe\">\n",
       "  <thead>\n",
       "    <tr style=\"text-align: right;\">\n",
       "      <th></th>\n",
       "      <th>YearMade</th>\n",
       "      <th>MachineHoursCurrentMeter</th>\n",
       "    </tr>\n",
       "    <tr>\n",
       "      <th>SalesID</th>\n",
       "      <th></th>\n",
       "      <th></th>\n",
       "    </tr>\n",
       "  </thead>\n",
       "  <tbody>\n",
       "    <tr>\n",
       "      <th>1139246</th>\n",
       "      <td>2004</td>\n",
       "      <td>68.0</td>\n",
       "    </tr>\n",
       "    <tr>\n",
       "      <th>1139248</th>\n",
       "      <td>1996</td>\n",
       "      <td>4640.0</td>\n",
       "    </tr>\n",
       "    <tr>\n",
       "      <th>1139249</th>\n",
       "      <td>2001</td>\n",
       "      <td>2838.0</td>\n",
       "    </tr>\n",
       "  </tbody>\n",
       "</table>\n",
       "</div>"
      ],
      "text/plain": [
       "         YearMade  MachineHoursCurrentMeter\n",
       "SalesID                                    \n",
       "1139246      2004                      68.0\n",
       "1139248      1996                    4640.0\n",
       "1139249      2001                    2838.0"
      ]
     },
     "execution_count": 7,
     "metadata": {},
     "output_type": "execute_result"
    }
   ],
   "source": [
    "clean.transform(train_df).head(3)"
   ]
  },
  {
   "cell_type": "code",
   "execution_count": 8,
   "id": "e2401c16-a8f2-4d84-ae35-138734a19f77",
   "metadata": {},
   "outputs": [
    {
     "data": {
      "text/html": [
       "<div>\n",
       "<style scoped>\n",
       "    .dataframe tbody tr th:only-of-type {\n",
       "        vertical-align: middle;\n",
       "    }\n",
       "\n",
       "    .dataframe tbody tr th {\n",
       "        vertical-align: top;\n",
       "    }\n",
       "\n",
       "    .dataframe thead th {\n",
       "        text-align: right;\n",
       "    }\n",
       "</style>\n",
       "<table border=\"1\" class=\"dataframe\">\n",
       "  <thead>\n",
       "    <tr style=\"text-align: right;\">\n",
       "      <th></th>\n",
       "      <th>YearMade</th>\n",
       "      <th>MachineHoursCurrentMeter</th>\n",
       "    </tr>\n",
       "    <tr>\n",
       "      <th>SalesID</th>\n",
       "      <th></th>\n",
       "      <th></th>\n",
       "    </tr>\n",
       "  </thead>\n",
       "  <tbody>\n",
       "    <tr>\n",
       "      <th>1222837</th>\n",
       "      <td>1000</td>\n",
       "      <td>0.0</td>\n",
       "    </tr>\n",
       "    <tr>\n",
       "      <th>1222839</th>\n",
       "      <td>2006</td>\n",
       "      <td>4412.0</td>\n",
       "    </tr>\n",
       "    <tr>\n",
       "      <th>1222841</th>\n",
       "      <td>2000</td>\n",
       "      <td>10127.0</td>\n",
       "    </tr>\n",
       "  </tbody>\n",
       "</table>\n",
       "</div>"
      ],
      "text/plain": [
       "         YearMade  MachineHoursCurrentMeter\n",
       "SalesID                                    \n",
       "1222837      1000                       0.0\n",
       "1222839      2006                    4412.0\n",
       "1222841      2000                   10127.0"
      ]
     },
     "execution_count": 8,
     "metadata": {},
     "output_type": "execute_result"
    }
   ],
   "source": [
    "clean.transform(test_df).head(3)"
   ]
  },
  {
   "cell_type": "markdown",
   "id": "1990a584-2578-452e-9825-950ac3e5771f",
   "metadata": {},
   "source": [
    "# Real Code"
   ]
  },
  {
   "cell_type": "code",
   "execution_count": 9,
   "id": "a343833d-6c3e-4d0b-bd36-a903a40b7668",
   "metadata": {},
   "outputs": [
    {
     "name": "stderr",
     "output_type": "stream",
     "text": [
      "/home/chyld/.local/miniconda3/envs/tau/lib/python3.10/site-packages/IPython/core/interactiveshell.py:3457: DtypeWarning: Columns (13,39,40,41) have mixed types.Specify dtype option on import or set low_memory=False.\n",
      "  exec(code_obj, self.user_global_ns, self.user_ns)\n"
     ]
    }
   ],
   "source": [
    "train_df = pd.read_csv('data/Train.csv', index_col='SalesID')\n",
    "test_df = pd.read_csv('data/test.csv', index_col='SalesID')"
   ]
  },
  {
   "cell_type": "code",
   "execution_count": 10,
   "id": "1e5e863a-dc59-4a47-b6ca-c19a9b5d7afb",
   "metadata": {},
   "outputs": [],
   "source": [
    "clean = Cleaner(['YearMade', 'MachineHoursCurrentMeter'])\n",
    "clean.fit(train_df)\n",
    "y_train = train_df.SalePrice\n",
    "X_train = clean.transform(train_df)\n",
    "X_test = clean.transform(test_df)"
   ]
  },
  {
   "cell_type": "code",
   "execution_count": 11,
   "id": "63bff92c-0b05-4d04-b06e-f60126526e39",
   "metadata": {},
   "outputs": [
    {
     "name": "stdout",
     "output_type": "stream",
     "text": [
      "Fitting 5 folds for each of 1 candidates, totalling 5 fits\n"
     ]
    },
    {
     "data": {
      "text/plain": [
       "(-0.7236173531546051, {})"
      ]
     },
     "execution_count": 11,
     "metadata": {},
     "output_type": "execute_result"
    }
   ],
   "source": [
    "parameters = {}\n",
    "model = LinearRegression()\n",
    "gs = GridSearchCV(model, parameters, cv=5, n_jobs=-1, verbose=1, scoring=rmsle)\n",
    "gs.fit(X_train, y_train)\n",
    "gs.best_score_, gs.best_params_"
   ]
  },
  {
   "cell_type": "code",
   "execution_count": 12,
   "id": "1a5b80da-cfbe-47c5-bb81-baa41d654b1d",
   "metadata": {},
   "outputs": [
    {
     "data": {
      "text/plain": [
       "array([19940.97230702, 32433.09593706, 32437.19241221, ...,\n",
       "       32407.67689374, 32420.03446888, 32420.03446888])"
      ]
     },
     "execution_count": 12,
     "metadata": {},
     "output_type": "execute_result"
    }
   ],
   "source": [
    "final = LinearRegression().fit(X_train, y_train)\n",
    "y_hat = final.predict(X_test); y_hat"
   ]
  },
  {
   "cell_type": "code",
   "execution_count": 13,
   "id": "0b6c9704-f1fc-47d9-8add-2d1d66539b53",
   "metadata": {},
   "outputs": [],
   "source": [
    "# now compare y_hat to the ground truth"
   ]
  },
  {
   "cell_type": "code",
   "execution_count": null,
   "id": "ab347a77-6798-43e5-8c67-df93f4c2ab03",
   "metadata": {},
   "outputs": [],
   "source": []
  },
  {
   "cell_type": "code",
   "execution_count": 14,
   "id": "e0e911a6-edfd-44fd-9078-2c3bdd8a32d3",
   "metadata": {},
   "outputs": [],
   "source": [
    "# keep iterating on your code ..."
   ]
  },
  {
   "cell_type": "code",
   "execution_count": null,
   "id": "1a56fa7f-a3bb-4ecb-ad32-520d1c810552",
   "metadata": {},
   "outputs": [],
   "source": []
  }
 ],
 "metadata": {
  "kernelspec": {
   "display_name": "Python 3 (ipykernel)",
   "language": "python",
   "name": "python3"
  },
  "language_info": {
   "codemirror_mode": {
    "name": "ipython",
    "version": 3
   },
   "file_extension": ".py",
   "mimetype": "text/x-python",
   "name": "python",
   "nbconvert_exporter": "python",
   "pygments_lexer": "ipython3",
   "version": "3.10.0"
  }
 },
 "nbformat": 4,
 "nbformat_minor": 5
}
